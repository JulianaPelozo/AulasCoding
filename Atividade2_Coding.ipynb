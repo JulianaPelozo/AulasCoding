{
  "nbformat": 4,
  "nbformat_minor": 0,
  "metadata": {
    "colab": {
      "provenance": []
    },
    "kernelspec": {
      "name": "python3",
      "display_name": "Python 3"
    },
    "language_info": {
      "name": "python"
    }
  },
  "cells": [
    {
      "cell_type": "code",
      "execution_count": 1,
      "metadata": {
        "id": "DuuqvsSmerNB"
      },
      "outputs": [],
      "source": [
        "idade1 = 20\n",
        "idade2 = 36"
      ]
    },
    {
      "cell_type": "code",
      "source": [
        "idade1 + idade2"
      ],
      "metadata": {
        "colab": {
          "base_uri": "https://localhost:8080/"
        },
        "id": "cKvYCcoxe9AW",
        "outputId": "2733feb5-9669-405e-847e-2774d5009ac4"
      },
      "execution_count": 2,
      "outputs": [
        {
          "output_type": "execute_result",
          "data": {
            "text/plain": [
              "56"
            ]
          },
          "metadata": {},
          "execution_count": 2
        }
      ]
    },
    {
      "cell_type": "code",
      "source": [
        "soma = idade1 + idade2"
      ],
      "metadata": {
        "id": "S0BA8fWVfYGV"
      },
      "execution_count": 3,
      "outputs": []
    },
    {
      "cell_type": "code",
      "source": [
        "subtracao = idade2 - idade1"
      ],
      "metadata": {
        "id": "NH8EDgH_gXfL"
      },
      "execution_count": 4,
      "outputs": []
    },
    {
      "cell_type": "code",
      "source": [
        "multiplicacao = idade1 * idade2"
      ],
      "metadata": {
        "id": "eJF_gTOxgcir"
      },
      "execution_count": 5,
      "outputs": []
    },
    {
      "cell_type": "code",
      "source": [
        "divisao = idade2 / idade1"
      ],
      "metadata": {
        "id": "lDTcysxAggxL"
      },
      "execution_count": 6,
      "outputs": []
    },
    {
      "cell_type": "code",
      "source": [
        "print(soma, subtracao, multiplicacao, divisao)"
      ],
      "metadata": {
        "colab": {
          "base_uri": "https://localhost:8080/"
        },
        "id": "-i5l7Ed1gl9N",
        "outputId": "80d5d30f-f8de-4d5a-e029-b3f59e1d7759"
      },
      "execution_count": 7,
      "outputs": [
        {
          "output_type": "stream",
          "name": "stdout",
          "text": [
            "56 16 720 1.8\n"
          ]
        }
      ]
    },
    {
      "cell_type": "code",
      "source": [
        "idade1 + 10"
      ],
      "metadata": {
        "colab": {
          "base_uri": "https://localhost:8080/"
        },
        "id": "jtUPGyF2jJpK",
        "outputId": "7b2b01c4-a483-497e-ba32-6f38ae64d642"
      },
      "execution_count": 8,
      "outputs": [
        {
          "output_type": "execute_result",
          "data": {
            "text/plain": [
              "30"
            ]
          },
          "metadata": {},
          "execution_count": 8
        }
      ]
    },
    {
      "cell_type": "code",
      "source": [
        "idade1 - 10"
      ],
      "metadata": {
        "colab": {
          "base_uri": "https://localhost:8080/"
        },
        "id": "1gmazp6ojMTx",
        "outputId": "28cea432-1a60-4e10-cd7e-2927174d89b1"
      },
      "execution_count": 12,
      "outputs": [
        {
          "output_type": "execute_result",
          "data": {
            "text/plain": [
              "10"
            ]
          },
          "metadata": {},
          "execution_count": 12
        }
      ]
    },
    {
      "cell_type": "code",
      "source": [
        "idade1 * 10"
      ],
      "metadata": {
        "colab": {
          "base_uri": "https://localhost:8080/"
        },
        "id": "Twi4jxAEjNxy",
        "outputId": "9d0d59fd-6525-49ec-f2ee-2ca8cba46586"
      },
      "execution_count": 13,
      "outputs": [
        {
          "output_type": "execute_result",
          "data": {
            "text/plain": [
              "200"
            ]
          },
          "metadata": {},
          "execution_count": 13
        }
      ]
    },
    {
      "cell_type": "code",
      "source": [
        "idade1 / 10"
      ],
      "metadata": {
        "colab": {
          "base_uri": "https://localhost:8080/"
        },
        "id": "cFuYQ6UAjQAC",
        "outputId": "4dbbbbdf-3ec4-4508-e9ce-4ff2b557589d"
      },
      "execution_count": 11,
      "outputs": [
        {
          "output_type": "execute_result",
          "data": {
            "text/plain": [
              "2.0"
            ]
          },
          "metadata": {},
          "execution_count": 11
        }
      ]
    },
    {
      "cell_type": "markdown",
      "source": [
        "PARTE 2"
      ],
      "metadata": {
        "id": "58qfRVjnn4bs"
      }
    },
    {
      "cell_type": "code",
      "source": [
        "2 * (idade1 + idade2)"
      ],
      "metadata": {
        "colab": {
          "base_uri": "https://localhost:8080/"
        },
        "id": "VzitizTGn6vU",
        "outputId": "5001a80e-3750-4a4b-884d-5bf620169fc3"
      },
      "execution_count": 14,
      "outputs": [
        {
          "output_type": "execute_result",
          "data": {
            "text/plain": [
              "112"
            ]
          },
          "metadata": {},
          "execution_count": 14
        }
      ]
    },
    {
      "cell_type": "code",
      "source": [
        "resultado = 2 * (idade1 + idade2)\n",
        "print(resultado)"
      ],
      "metadata": {
        "colab": {
          "base_uri": "https://localhost:8080/"
        },
        "id": "92mjodtepz8k",
        "outputId": "7dcdeebc-1b87-4d28-e177-cfa2484309f2"
      },
      "execution_count": 16,
      "outputs": [
        {
          "output_type": "stream",
          "name": "stdout",
          "text": [
            "112\n"
          ]
        }
      ]
    },
    {
      "cell_type": "code",
      "source": [
        "2 * idade1 + 3 * idade2 / 4\n",
        "#multiplicação e divisão\n",
        "#soma e subtração"
      ],
      "metadata": {
        "colab": {
          "base_uri": "https://localhost:8080/"
        },
        "id": "NQ-8QGb9p44i",
        "outputId": "446e92cc-0437-4cc4-e567-f0720f2d9a69"
      },
      "execution_count": 17,
      "outputs": [
        {
          "output_type": "execute_result",
          "data": {
            "text/plain": [
              "67.0"
            ]
          },
          "metadata": {},
          "execution_count": 17
        }
      ]
    },
    {
      "cell_type": "code",
      "source": [
        "(2 * idade1 + 3 * idade2) / 4"
      ],
      "metadata": {
        "colab": {
          "base_uri": "https://localhost:8080/"
        },
        "id": "baimhYLmrTnN",
        "outputId": "918078a8-5859-430f-d0a7-b5f0fd03de4a"
      },
      "execution_count": 18,
      "outputs": [
        {
          "output_type": "execute_result",
          "data": {
            "text/plain": [
              "37.0"
            ]
          },
          "metadata": {},
          "execution_count": 18
        }
      ]
    }
  ]
}